{
  "cells": [
    {
      "cell_type": "markdown",
      "metadata": {
        "id": "DRBP_LWb2enC"
      },
      "source": [
        "## 0. Install and Import Dependencies"
      ]
    },
    {
      "cell_type": "code",
      "execution_count": null,
      "metadata": {
        "id": "63ghdw1I2enF",
        "outputId": "f2553724-e1c3-4afb-b2b9-04055a805ce9"
      },
      "outputs": [
        {
          "name": "stdout",
          "output_type": "stream",
          "text": [
            "Collecting ibm_watson\n",
            "  Downloading ibm-watson-7.0.0.tar.gz (389 kB)\n",
            "     -------------------------------------- 389.1/389.1 kB 3.0 MB/s eta 0:00:00\n",
            "  Installing build dependencies: started\n",
            "  Installing build dependencies: finished with status 'done'\n",
            "  Getting requirements to build wheel: started\n",
            "  Getting requirements to build wheel: finished with status 'done'\n",
            "  Preparing metadata (pyproject.toml): started\n",
            "  Preparing metadata (pyproject.toml): finished with status 'done'\n",
            "Requirement already satisfied: python-dateutil>=2.5.3 in c:\\users\\91630\\anaconda3\\lib\\site-packages (from ibm_watson) (2.8.2)\n",
            "Collecting websocket-client==1.1.0\n",
            "  Downloading websocket_client-1.1.0-py2.py3-none-any.whl (68 kB)\n",
            "     ---------------------------------------- 68.7/68.7 kB ? eta 0:00:00\n",
            "Collecting ibm-cloud-sdk-core==3.*,>=3.3.6\n",
            "  Downloading ibm-cloud-sdk-core-3.16.7.tar.gz (52 kB)\n",
            "     ---------------------------------------- 52.3/52.3 kB 2.6 MB/s eta 0:00:00\n",
            "  Installing build dependencies: started\n",
            "  Installing build dependencies: finished with status 'done'\n",
            "  Getting requirements to build wheel: started\n",
            "  Getting requirements to build wheel: finished with status 'done'\n",
            "  Preparing metadata (pyproject.toml): started\n",
            "  Preparing metadata (pyproject.toml): finished with status 'done'\n",
            "Requirement already satisfied: requests<3.0,>=2.0 in c:\\users\\91630\\anaconda3\\lib\\site-packages (from ibm_watson) (2.31.0)\n",
            "Requirement already satisfied: urllib3<2.0.0,>=1.26.0 in c:\\users\\91630\\anaconda3\\lib\\site-packages (from ibm-cloud-sdk-core==3.*,>=3.3.6->ibm_watson) (1.26.16)\n",
            "Requirement already satisfied: PyJWT<3.0.0,>=2.4.0 in c:\\users\\91630\\anaconda3\\lib\\site-packages (from ibm-cloud-sdk-core==3.*,>=3.3.6->ibm_watson) (2.4.0)\n",
            "Requirement already satisfied: six>=1.5 in c:\\users\\91630\\anaconda3\\lib\\site-packages (from python-dateutil>=2.5.3->ibm_watson) (1.16.0)\n",
            "Requirement already satisfied: certifi>=2017.4.17 in c:\\users\\91630\\anaconda3\\lib\\site-packages (from requests<3.0,>=2.0->ibm_watson) (2022.12.7)\n",
            "Requirement already satisfied: charset-normalizer<4,>=2 in c:\\users\\91630\\anaconda3\\lib\\site-packages (from requests<3.0,>=2.0->ibm_watson) (2.0.4)\n",
            "Requirement already satisfied: idna<4,>=2.5 in c:\\users\\91630\\anaconda3\\lib\\site-packages (from requests<3.0,>=2.0->ibm_watson) (3.4)\n",
            "Building wheels for collected packages: ibm_watson, ibm-cloud-sdk-core\n",
            "  Building wheel for ibm_watson (pyproject.toml): started\n",
            "  Building wheel for ibm_watson (pyproject.toml): finished with status 'done'\n",
            "  Created wheel for ibm_watson: filename=ibm_watson-7.0.0-py3-none-any.whl size=389828 sha256=e999a2ec867b3ac4b65cc313a476c768311118d0519f29fdc732365ed86346b9\n",
            "  Stored in directory: c:\\users\\91630\\appdata\\local\\pip\\cache\\wheels\\61\\ef\\c8\\7ae1a9f9d11cd700e5d425b2513dcbe7f64995a41a5aba7dfa\n",
            "  Building wheel for ibm-cloud-sdk-core (pyproject.toml): started\n",
            "  Building wheel for ibm-cloud-sdk-core (pyproject.toml): finished with status 'done'\n",
            "  Created wheel for ibm-cloud-sdk-core: filename=ibm_cloud_sdk_core-3.16.7-py3-none-any.whl size=85633 sha256=06c72ebc9ea19122b30de5b2050a996cdfbe15862498ff67b7719bf218082654\n",
            "  Stored in directory: c:\\users\\91630\\appdata\\local\\pip\\cache\\wheels\\c6\\70\\ea\\02a4e639a6bc4908a25e0e25817f63ea8befedd9cb40955ec8\n",
            "Successfully built ibm_watson ibm-cloud-sdk-core\n",
            "Installing collected packages: websocket-client, ibm-cloud-sdk-core, ibm_watson\n",
            "  Attempting uninstall: websocket-client\n",
            "    Found existing installation: websocket-client 0.58.0\n",
            "    Uninstalling websocket-client-0.58.0:\n",
            "      Successfully uninstalled websocket-client-0.58.0\n",
            "Successfully installed ibm-cloud-sdk-core-3.16.7 ibm_watson-7.0.0 websocket-client-1.1.0\n"
          ]
        }
      ],
      "source": [
        "!pip install ibm_watson"
      ]
    },
    {
      "cell_type": "code",
      "execution_count": null,
      "metadata": {
        "id": "OeaD2YhX2enI"
      },
      "outputs": [],
      "source": [
        "from ibm_watson import SpeechToTextV1\n",
        "from ibm_watson.websocket import RecognizeCallback, AudioSource\n",
        "from ibm_cloud_sdk_core.authenticators import IAMAuthenticator"
      ]
    },
    {
      "cell_type": "markdown",
      "metadata": {
        "id": "Bh1WWid-2enJ"
      },
      "source": [
        "## 1. Setup STT Service"
      ]
    },
    {
      "cell_type": "code",
      "execution_count": null,
      "metadata": {
        "id": "Mck5BFG92enJ"
      },
      "outputs": [],
      "source": [
        "apikey = 'U-HHE_ECh68dMVMLdUfqrZcGf63Hi3MB6HVFjl5W0oeL'\n",
        "url = 'https://api.us-south.speech-to-text.watson.cloud.ibm.com/instances/3319315d-62d5-49b5-bb00-da196cd8cb40'"
      ]
    },
    {
      "cell_type": "code",
      "execution_count": null,
      "metadata": {
        "id": "K_x2U9g52enK"
      },
      "outputs": [],
      "source": [
        "# Setup Service\n",
        "authenticator = IAMAuthenticator(apikey)\n",
        "stt = SpeechToTextV1(authenticator=authenticator)\n",
        "stt.set_service_url(url)"
      ]
    },
    {
      "cell_type": "markdown",
      "metadata": {
        "id": "IHdzbSQg2enK"
      },
      "source": [
        "## 2. Open Audio Source and Convert"
      ]
    },
    {
      "cell_type": "code",
      "execution_count": null,
      "metadata": {
        "id": "lSLHL-u02enL"
      },
      "outputs": [],
      "source": [
        "# Perform conversion\n",
        "with open(r'C:\\Users\\STT\\harvard.mp3', 'rb') as f:\n",
        "    res = stt.recognize(audio=f, content_type='audio/mp3', model='en-US_NarrowbandModel').get_result()"
      ]
    },
    {
      "cell_type": "code",
      "execution_count": null,
      "metadata": {
        "id": "nQ0hesIJ2enM",
        "outputId": "069b1880-940c-4f9e-aaac-7369906f1942"
      },
      "outputs": [
        {
          "data": {
            "text/plain": [
              "{'result_index': 0,\n",
              " 'results': [{'final': True,\n",
              "   'alternatives': [{'transcript': 'the stale smell of old beer lingers it takes heat to bring out the odor I cold dip restores health invest a cell pickle tastes fine with ham cockles all pastore are my favorite exist full food is the hot cross bun ',\n",
              "     'confidence': 0.81}]}]}"
            ]
          },
          "execution_count": 7,
          "metadata": {},
          "output_type": "execute_result"
        }
      ],
      "source": [
        "res"
      ]
    },
    {
      "cell_type": "code",
      "execution_count": null,
      "metadata": {
        "id": "nChWUdAA2enN",
        "outputId": "03cab24f-0a0f-4780-cb99-bc0bb641ae7a"
      },
      "outputs": [
        {
          "data": {
            "text/plain": [
              "'the stale smell of old beer lingers it takes heat to bring out the odor I cold dip restores health invest a cell pickle tastes fine with ham cockles all pastore are my favorite exist full food is the hot cross bun '"
            ]
          },
          "execution_count": 8,
          "metadata": {},
          "output_type": "execute_result"
        }
      ],
      "source": [
        "text = res['results'][0]['alternatives'][0]['transcript']\n",
        "text"
      ]
    },
    {
      "cell_type": "code",
      "execution_count": null,
      "metadata": {
        "id": "p4VTL7G_2enO",
        "outputId": "e2c44239-0295-4aa4-f134-c69e5a746dc5"
      },
      "outputs": [
        {
          "data": {
            "text/plain": [
              "0.81"
            ]
          },
          "execution_count": 9,
          "metadata": {},
          "output_type": "execute_result"
        }
      ],
      "source": [
        "confidence = res['results'][0]['alternatives'][0]['confidence']\n",
        "confidence"
      ]
    },
    {
      "cell_type": "code",
      "execution_count": null,
      "metadata": {
        "id": "Jz5xWjgQ2enP"
      },
      "outputs": [],
      "source": [
        "with open('output.txt', 'w') as out:\n",
        "    out.writelines(text)\n",
        ""
      ]
    },
    {
      "cell_type": "markdown",
      "metadata": {
        "id": "vC6yaQx32enP"
      },
      "source": [
        "## 3. Change Language Models"
      ]
    },
    {
      "cell_type": "code",
      "execution_count": null,
      "metadata": {
        "id": "9YHNDasc2enP"
      },
      "outputs": [],
      "source": [
        "# Perform conversion\n",
        "with open('Untitled.mp3', 'rb') as f:\n",
        "    res = stt.recognize(audio=f, content_type='audio/mp3', model='en-AU_NarrowbandModel', continuous=True).get_result()"
      ]
    },
    {
      "cell_type": "code",
      "execution_count": null,
      "metadata": {
        "id": "3LKqDuv62enQ",
        "outputId": "1461a441-bd4f-4df3-ec61-0b8b7d96354f"
      },
      "outputs": [
        {
          "data": {
            "text/plain": [
              "{'result_index': 0,\n",
              " 'results': [{'final': True,\n",
              "   'alternatives': [{'transcript': 'hello world ', 'confidence': 0.99}]}]}"
            ]
          },
          "execution_count": 22,
          "metadata": {},
          "output_type": "execute_result"
        }
      ],
      "source": [
        "res"
      ]
    },
    {
      "cell_type": "code",
      "execution_count": null,
      "metadata": {
        "id": "qVzohECW2enQ"
      },
      "outputs": [],
      "source": []
    }
  ],
  "metadata": {
    "kernelspec": {
      "display_name": "Python 3 (ipykernel)",
      "language": "python",
      "name": "python3"
    },
    "language_info": {
      "codemirror_mode": {
        "name": "ipython",
        "version": 3
      },
      "file_extension": ".py",
      "mimetype": "text/x-python",
      "name": "python",
      "nbconvert_exporter": "python",
      "pygments_lexer": "ipython3",
      "version": "3.10.9"
    },
    "colab": {
      "provenance": []
    }
  },
  "nbformat": 4,
  "nbformat_minor": 0
}